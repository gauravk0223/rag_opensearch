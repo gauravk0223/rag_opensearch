{
 "cells": [
  {
   "cell_type": "markdown",
   "id": "632176d5",
   "metadata": {},
   "source": [
    "### RAG implemenation with Symantic Chunking & OpenSearch as Vector Store (with hsnw index)"
   ]
  },
  {
   "cell_type": "code",
   "execution_count": 19,
   "id": "c3f9ebb6",
   "metadata": {},
   "outputs": [],
   "source": [
    "# Load the enviornment variables\n",
    "import os\n",
    "from dotenv import load_dotenv\n",
    "load_dotenv()\n",
    "\n",
    "os.environ[\"HF_TOKEN\"]=os.getenv(\"HF_TOKEN\")\n",
    "os.environ[\"GOOGLE_API_KEY\"]=os.getenv(\"GOOGLE_API_KEY\")\n",
    "os.environ[\"OPENAI_API_KEY\"]=os.getenv(\"OPENAI_API_KEY\")"
   ]
  },
  {
   "cell_type": "code",
   "execution_count": null,
   "id": "c1dfb5e8",
   "metadata": {},
   "outputs": [],
   "source": [
    "## Import Open AI embedding model used for symantic chunking & while convetring the chunks in vectors\n",
    "from langchain_openai import OpenAIEmbeddings\n",
    "embeddings = OpenAIEmbeddings(model=\"text-embedding-3-large\")"
   ]
  },
  {
   "cell_type": "code",
   "execution_count": 21,
   "id": "116539c7",
   "metadata": {},
   "outputs": [
    {
     "name": "stdout",
     "output_type": "stream",
     "text": [
      "AI Agents That Matter\n",
      "Sayash Kapoor∗, Benedikt Stroebl ∗, Zachary S. Siegel, Nitya Nadgir, Arvind Narayanan\n",
      "Princeton University\n",
      "July 2, 2024\n",
      "Abstract\n",
      "AI agents are an exciting new research direction, and agent development is driven\n",
      "by benchmarks. Our analysis of current agent benchmarks and evaluation practices\n",
      "reveals several shortcomings that hinder their usefulness in real-world applications. First, there is a narrow focus on accuracy without attention to other metrics. As\n",
      "a result, SOTA agents are needlessly complex and costly, and the community has\n",
      "reached mistaken conclusions about the sources of accuracy gains. Our focus on\n",
      "cost in addition to accuracy motivates the new goal of jointly optimizing the two\n",
      "metrics. We design and implement one such optimization, showing its potential\n",
      "to greatly reduce cost while maintaining accuracy. Second, the benchmarking\n",
      "needs of model and downstream developers have been conflated, making it hard\n",
      "to identify which agent would be best suited for a particular application. Third,\n",
      "many agent benchmarks have inadequate holdout sets, and sometimes none at all. This has led to agents that are fragile because they take shortcuts and overfit to the\n",
      "benchmark in various ways. We prescribe a principled framework for avoiding\n",
      "overfitting. Finally, there is a lack of standardization in evaluation practices, leading\n",
      "to a pervasive lack of reproducibility. We hope that the steps we introduce for\n",
      "addressing these shortcomings will spur the development of agents that are useful\n",
      "in the real world and not just accurate on benchmarks. 1 Introduction\n",
      "Compound AI systems, or AI agents, are becoming an important research direction. Zaharia et al. [63] argue that “compound AI systems will likely be the best way to maximize AI results in the future,\n",
      "and might be one of the most impactful trends in AI in 2024.” Over a dozen agent benchmarks have\n",
      "been released, spanning domains such as web interaction [66], programming [21] and tool use [39]. Many benchmarks developed for LLM evaluation have also been used for agent evaluation. Agent evaluation differs from language model evaluation in fundamental ways. Agents can be used\n",
      "on tasks that are harder, more realistic, have more real-world utility, and usually don’t have a single\n",
      "correct answer. For example, agents can use the command line to carry out tasks; SWE-Agent even\n",
      "includes its own agent-computer interface [59]. Agents can cost much more than a single model call. For example, the authors of SWE-Agent capped each run of the agent at $4 USD, which translates to\n",
      "hundreds of thousands of language model tokens. As a result, agent benchmarking comes with distinct challenges.\n"
     ]
    }
   ],
   "source": [
    "# Load the pdf document and create chunks using symantic chunking \n",
    "from langchain_community.document_loaders import PyPDFLoader\n",
    "from langchain_experimental.text_splitter import SemanticChunker\n",
    "\n",
    "FILE_PATH=r\"C:\\Users\\gauravkkumar\\Documents\\2025\\rag\\data\\2407_01502v1.pdf\"\n",
    "loader=PyPDFLoader(FILE_PATH)\n",
    "pages = loader.load()\n",
    "\n",
    "text_splitter = SemanticChunker(embeddings)\n",
    "split_docs = text_splitter.split_documents(pages)\n",
    "\n",
    "print(split_docs[0].page_content)"
   ]
  },
  {
   "cell_type": "markdown",
   "id": "3a4d71ec",
   "metadata": {},
   "source": [
    "### OpenSearch \n",
    "1. Create the client\n",
    "2. Create the index\n",
    "3. Create the OpenSearch vector store \n",
    "Pre-requiste: Make sure Opensearch is running in Docker locally"
   ]
  },
  {
   "cell_type": "code",
   "execution_count": 22,
   "id": "24d60361",
   "metadata": {},
   "outputs": [
    {
     "name": "stderr",
     "output_type": "stream",
     "text": [
      "c:\\Users\\gauravkkumar\\Documents\\2025\\rag\\venv\\Lib\\site-packages\\opensearchpy\\connection\\http_urllib3.py:214: UserWarning: Connecting to https://localhost:9200 using SSL with verify_certs=False is insecure.\n",
      "  warnings.warn(\n"
     ]
    }
   ],
   "source": [
    "## Create OpenSearch Clinet \n",
    "from langchain_community.vectorstores import OpenSearchVectorSearch\n",
    "from opensearchpy import OpenSearch\n",
    "\n",
    "client = OpenSearch(\n",
    "    hosts=[{'host': 'localhost', 'port': 9200}],\n",
    "    http_auth=('admin', 'Ishana@0223'),  # Replace with your credentials\n",
    "    use_ssl=True,\n",
    "    verify_certs=False\n",
    ")"
   ]
  },
  {
   "cell_type": "code",
   "execution_count": 23,
   "id": "7825eea5",
   "metadata": {},
   "outputs": [
    {
     "data": {
      "text/plain": [
       "3072"
      ]
     },
     "execution_count": 23,
     "metadata": {},
     "output_type": "execute_result"
    }
   ],
   "source": [
    "len(embeddings.embed_query(\"Hello\"))"
   ]
  },
  {
   "cell_type": "code",
   "execution_count": 24,
   "id": "943ccdac",
   "metadata": {},
   "outputs": [
    {
     "name": "stderr",
     "output_type": "stream",
     "text": [
      "c:\\Users\\gauravkkumar\\Documents\\2025\\rag\\venv\\Lib\\site-packages\\urllib3\\connectionpool.py:1097: InsecureRequestWarning: Unverified HTTPS request is being made to host 'localhost'. Adding certificate verification is strongly advised. See: https://urllib3.readthedocs.io/en/latest/advanced-usage.html#tls-warnings\n",
      "  warnings.warn(\n",
      "c:\\Users\\gauravkkumar\\Documents\\2025\\rag\\venv\\Lib\\site-packages\\urllib3\\connectionpool.py:1097: InsecureRequestWarning: Unverified HTTPS request is being made to host 'localhost'. Adding certificate verification is strongly advised. See: https://urllib3.readthedocs.io/en/latest/advanced-usage.html#tls-warnings\n",
      "  warnings.warn(\n"
     ]
    }
   ],
   "source": [
    "index_name = \"langchain-demo-index\"\n",
    "\n",
    "index_body = {\n",
    "    \"settings\": {\n",
    "        \"index\": {\n",
    "            \"knn\": True\n",
    "        }\n",
    "    },\n",
    "    \"mappings\": {\n",
    "        \"properties\": {\n",
    "            \"text\": {\"type\": \"text\"},\n",
    "            \"vector_field\": {\n",
    "                \"type\": \"knn_vector\",\n",
    "                \"dimension\": 3072,  # Set to your embedding dimension\n",
    "                \"method\": {\n",
    "                    \"engine\": \"faiss\",  # or \"nmslib\" if desired\n",
    "                    \"space_type\": \"l2\",  # or \"cosinesimil\", etc.\n",
    "                    \"name\": \"hnsw\",      # or \"ivf\", \"flat\", etc. (see docs)\n",
    "                    \"parameters\": {\n",
    "                        \"ef_construction\": 512,\n",
    "                        \"m\": 16\n",
    "                    }\n",
    "                }\n",
    "            }\n",
    "        }\n",
    "    }\n",
    "}\n",
    "\n",
    "if not client.indices.exists(index=index_name):\n",
    "    client.indices.create(index=index_name, body=index_body)"
   ]
  },
  {
   "cell_type": "code",
   "execution_count": 28,
   "id": "59d63b83",
   "metadata": {},
   "outputs": [
    {
     "name": "stderr",
     "output_type": "stream",
     "text": [
      "c:\\Users\\gauravkkumar\\Documents\\2025\\rag\\venv\\Lib\\site-packages\\opensearchpy\\connection\\http_urllib3.py:214: UserWarning: Connecting to https://localhost:9200 using SSL with verify_certs=False is insecure.\n",
      "  warnings.warn(\n"
     ]
    }
   ],
   "source": [
    "docsearch = OpenSearchVectorSearch(embedding_function=embeddings, \n",
    "                                   index_name=index_name,\n",
    "                                   opensearch_url=\"https://localhost:9200\", \n",
    "                                    http_auth=(\"admin\", \"Ishana@0223\"),\n",
    "                                    use_ssl = True,\n",
    "                                    verify_certs = False, \n",
    ")"
   ]
  },
  {
   "cell_type": "code",
   "execution_count": 29,
   "id": "9418d04d",
   "metadata": {},
   "outputs": [],
   "source": [
    "from uuid import uuid4\n",
    "uuids = [str(uuid4()) for _ in range(len(split_docs))]"
   ]
  },
  {
   "cell_type": "code",
   "execution_count": 30,
   "id": "54a314ba",
   "metadata": {},
   "outputs": [
    {
     "name": "stderr",
     "output_type": "stream",
     "text": [
      "c:\\Users\\gauravkkumar\\Documents\\2025\\rag\\venv\\Lib\\site-packages\\urllib3\\connectionpool.py:1097: InsecureRequestWarning: Unverified HTTPS request is being made to host 'localhost'. Adding certificate verification is strongly advised. See: https://urllib3.readthedocs.io/en/latest/advanced-usage.html#tls-warnings\n",
      "  warnings.warn(\n",
      "c:\\Users\\gauravkkumar\\Documents\\2025\\rag\\venv\\Lib\\site-packages\\urllib3\\connectionpool.py:1097: InsecureRequestWarning: Unverified HTTPS request is being made to host 'localhost'. Adding certificate verification is strongly advised. See: https://urllib3.readthedocs.io/en/latest/advanced-usage.html#tls-warnings\n",
      "  warnings.warn(\n",
      "c:\\Users\\gauravkkumar\\Documents\\2025\\rag\\venv\\Lib\\site-packages\\urllib3\\connectionpool.py:1097: InsecureRequestWarning: Unverified HTTPS request is being made to host 'localhost'. Adding certificate verification is strongly advised. See: https://urllib3.readthedocs.io/en/latest/advanced-usage.html#tls-warnings\n",
      "  warnings.warn(\n",
      "c:\\Users\\gauravkkumar\\Documents\\2025\\rag\\venv\\Lib\\site-packages\\urllib3\\connectionpool.py:1097: InsecureRequestWarning: Unverified HTTPS request is being made to host 'localhost'. Adding certificate verification is strongly advised. See: https://urllib3.readthedocs.io/en/latest/advanced-usage.html#tls-warnings\n",
      "  warnings.warn(\n",
      "c:\\Users\\gauravkkumar\\Documents\\2025\\rag\\venv\\Lib\\site-packages\\urllib3\\connectionpool.py:1097: InsecureRequestWarning: Unverified HTTPS request is being made to host 'localhost'. Adding certificate verification is strongly advised. See: https://urllib3.readthedocs.io/en/latest/advanced-usage.html#tls-warnings\n",
      "  warnings.warn(\n",
      "c:\\Users\\gauravkkumar\\Documents\\2025\\rag\\venv\\Lib\\site-packages\\urllib3\\connectionpool.py:1097: InsecureRequestWarning: Unverified HTTPS request is being made to host 'localhost'. Adding certificate verification is strongly advised. See: https://urllib3.readthedocs.io/en/latest/advanced-usage.html#tls-warnings\n",
      "  warnings.warn(\n",
      "c:\\Users\\gauravkkumar\\Documents\\2025\\rag\\venv\\Lib\\site-packages\\urllib3\\connectionpool.py:1097: InsecureRequestWarning: Unverified HTTPS request is being made to host 'localhost'. Adding certificate verification is strongly advised. See: https://urllib3.readthedocs.io/en/latest/advanced-usage.html#tls-warnings\n",
      "  warnings.warn(\n",
      "c:\\Users\\gauravkkumar\\Documents\\2025\\rag\\venv\\Lib\\site-packages\\urllib3\\connectionpool.py:1097: InsecureRequestWarning: Unverified HTTPS request is being made to host 'localhost'. Adding certificate verification is strongly advised. See: https://urllib3.readthedocs.io/en/latest/advanced-usage.html#tls-warnings\n",
      "  warnings.warn(\n",
      "c:\\Users\\gauravkkumar\\Documents\\2025\\rag\\venv\\Lib\\site-packages\\urllib3\\connectionpool.py:1097: InsecureRequestWarning: Unverified HTTPS request is being made to host 'localhost'. Adding certificate verification is strongly advised. See: https://urllib3.readthedocs.io/en/latest/advanced-usage.html#tls-warnings\n",
      "  warnings.warn(\n"
     ]
    },
    {
     "data": {
      "text/plain": [
       "['a8087f5b-0e2c-416f-9d5a-fc6985c9318b',\n",
       " 'd1948fa7-a34f-455c-aae1-63d1562a0403',\n",
       " 'dec55ca4-ce99-4938-a967-98a3f0639780',\n",
       " 'eaf9a7d5-0908-4517-8b63-78a7e51f5254',\n",
       " '087c5689-bf09-473e-b789-872a10017606',\n",
       " '4d72bf77-c3f5-4b37-ac9d-ff2aaa0ee346',\n",
       " '04e2e1d3-badb-45be-9513-6128f5d239a4',\n",
       " 'cce5cb13-87b0-47ca-b6f6-cb6be744a7a8',\n",
       " 'f511aa0a-b20d-4bfd-afff-d48ba73ea1b1',\n",
       " 'ccef1c58-dd51-4e04-8856-286a281c125a',\n",
       " '37c4321d-a61a-4115-8aac-e8b8d11e24bd',\n",
       " 'b439ba81-69d7-488d-906b-61473c3c9e4a',\n",
       " 'da03928c-6ba1-4f08-9391-7fc29ab59b8e',\n",
       " 'ad1eaba2-2673-426d-af93-f42dbee8628f',\n",
       " '84496bba-1b81-487c-a72f-6a55ea57cd31',\n",
       " 'c417fb94-5a8d-41db-ab70-f213704a48c8',\n",
       " '47959b86-c4c0-4a4e-88c5-0860b93be32d',\n",
       " '21a7cdb0-17c3-4629-8188-6abd2669e930',\n",
       " '1ad830b8-735a-4ff1-811e-3573347c1dbd',\n",
       " '07b31100-94eb-46ed-893f-637ee98fbd55',\n",
       " '9552f107-5498-48aa-b0f4-40906007b21f',\n",
       " 'bd0923c7-7a2e-4751-ad93-ab96eed0b5bc',\n",
       " '37ff4f86-89d8-48f8-aee6-75988cd8fa79',\n",
       " '850f9186-9c2f-428c-8f39-541ef1a57610',\n",
       " '59123973-bfb0-4975-b0d6-0bc05fd659b1',\n",
       " '789b6cab-5b66-4188-bb86-235f137258bc',\n",
       " '314e0e60-3e0b-4268-9ab0-ac12c167303f',\n",
       " 'eed7584d-804c-4c99-81a6-40e0c77726a6',\n",
       " '16f7c3c8-6230-45ab-a59b-99ac00da1729',\n",
       " '56674161-afe5-4f5c-8482-22a89995aee8',\n",
       " '1add8334-b6eb-4c19-a45f-b08fce7ae403',\n",
       " 'be549ce4-dfbe-4e70-9402-c89edd61b4e8',\n",
       " 'e0518b54-93fe-4376-9365-067605dd80ea',\n",
       " 'd5551536-ec61-41e3-acff-0dd046e05538',\n",
       " 'fcba452b-0c45-469b-9416-3b9cab0d1102',\n",
       " 'b4700744-4af5-4c70-80d1-aff88ed0e13b',\n",
       " '59de2d42-390b-4c45-985b-43e954b51291',\n",
       " '58f122cd-ed9b-4eed-8de2-993a62abc0f6',\n",
       " '9fa5f1c9-366d-4ab8-9997-6288e28cb1ae',\n",
       " 'be02e6ac-2c76-4579-a70e-088dbf477796',\n",
       " '866508d0-2178-481d-b304-09423765933a',\n",
       " '3e57a4cf-cbf8-4483-a523-8e36fa85c7a5',\n",
       " '3a5250d1-5c93-457a-95e4-7c0577aa19af',\n",
       " 'b5434150-aaf9-4fad-bf71-78dff40f6af9',\n",
       " 'b6c537f9-9745-4548-9865-374b470326b6',\n",
       " 'dbc1403b-b2f3-4fbd-876d-e8117beaee50',\n",
       " 'f00059fc-de32-495d-88fe-dfa820be8dcb',\n",
       " 'c4e2d61e-71d9-4e6b-9ca1-d075a1aca2fa',\n",
       " '751381be-d708-4d0e-9361-b972d84e0c8a',\n",
       " 'd70c2069-116f-48d7-a34d-943fb365d6f1',\n",
       " '6fdce8d5-f1c2-4317-b108-ca6d58ee6378',\n",
       " '46344c92-eb3f-4d8b-9b42-39dce0953284',\n",
       " '39768ad1-3002-463e-a2a4-e4d0a07427ff',\n",
       " '106428ea-fc18-489b-890f-a7f72d33b7e2',\n",
       " '49f2b5a5-c3cf-413f-8d2f-d05eeaedf1a9',\n",
       " 'f4cacf96-d875-4f28-ab72-070d989fe4e8',\n",
       " '240d7668-199a-491b-b24a-42064993dcf4',\n",
       " '8f510fae-f470-4801-9901-74f28ff5e38e',\n",
       " 'a06d2c0c-fd0a-4e2c-99e2-49ad01037992',\n",
       " 'ed10809f-f8a4-43a0-874f-d3f04e5156f0',\n",
       " 'ed81bb54-be14-4645-adc7-e09dde3ee4b9',\n",
       " 'c0987189-cacb-49a8-b6f2-ca40c212904e',\n",
       " '302c4e76-ebc9-472f-a80f-88eeb8c3fbb3',\n",
       " '1985c5c3-7938-4842-badd-1e1e10057c9f',\n",
       " 'dcd52a28-f759-454f-a68c-07f3c29f0424',\n",
       " '4d550fea-d481-4543-b755-06e467b4b388',\n",
       " '62e291e9-fd29-4976-8dfe-f27c8c060a51',\n",
       " 'e4732d2e-5df2-4f7d-92c8-e7eeec7e3fbc',\n",
       " '40283b63-dfac-42fa-a71f-7149abda83f3',\n",
       " '22b0da0b-8ca0-4ebe-ac8c-16502e5f9046',\n",
       " '8176ca49-be40-4281-9d5e-07fc3a03c8dc',\n",
       " '12710ac3-b3ef-4983-aed8-ab3d6ec1e324',\n",
       " 'a6246e82-2517-40ab-b120-df0624836855',\n",
       " '52680b63-82e9-45ad-b04a-af93599d3276',\n",
       " '1cc9e159-9c74-4ab6-bf58-16a206bace74',\n",
       " '59b86b8e-5a1b-4726-954f-2c63296521c7',\n",
       " 'c87c3d4f-0762-46ae-9dd9-dc56f52324e7',\n",
       " '887ad10f-89a5-47b8-a878-206bc04fcf43',\n",
       " 'b80b4648-c6d6-4452-ae2e-b871ac086c95',\n",
       " '83f54445-c2d7-4b35-930a-5b6914dfb08e',\n",
       " '33389d2a-87e2-4e0e-afc1-95c1c53bc53b',\n",
       " '2cb8a245-4f98-4f70-951d-5e2685fbc320',\n",
       " '0fc2cd28-49fd-4036-b940-19c85ae231f8',\n",
       " 'bf23dbe1-5540-4651-857e-63533db0e2f2',\n",
       " '034eec3f-2d52-4491-a22b-b4eb9d1c36a7',\n",
       " '31c84f33-8a21-4f11-acfe-01210c910da5',\n",
       " '82c6270a-2c75-438c-89b9-9f55cf14ce3d',\n",
       " '5c3f2a5f-b3b4-42ec-8482-af7edb379d66',\n",
       " '9ef14bcb-5526-4eb1-804f-c57bd308c85b',\n",
       " '1a53cc17-d301-4e9f-b5bb-b97029ddbadb',\n",
       " 'ffead65a-9cc9-4ca1-a768-4b836dd3fa4d',\n",
       " '2b25382c-3db8-4ab6-b42b-f1c96407861c',\n",
       " 'deecd8be-b8d2-42e6-b6d6-d52c97bee80f',\n",
       " 'e65b8568-5d8e-4521-bdee-e07403a89b1a',\n",
       " 'aaaced67-d0d7-4dd8-b16a-1f2561bc9fb0',\n",
       " '727acf0c-0ae4-4b8c-8edd-3d33c51f44c6',\n",
       " '61b0277e-a069-49a5-8bd0-00c1b0a01cee',\n",
       " '742eec1e-96fb-4689-8f64-adc0653f82d8',\n",
       " '8be726d6-6bf5-4f99-b6ca-5854c9d46c18',\n",
       " '010ce1ea-de76-448c-8f68-6532593a97f2',\n",
       " '69f348e7-d7c1-4ae7-8cb5-923098d1ed98',\n",
       " '38521297-d4a0-4d79-86da-8c41b7834893']"
      ]
     },
     "execution_count": 30,
     "metadata": {},
     "output_type": "execute_result"
    }
   ],
   "source": [
    "docsearch.add_documents(documents=split_docs, ids=uuids)"
   ]
  },
  {
   "cell_type": "code",
   "execution_count": 31,
   "id": "5ea94572",
   "metadata": {},
   "outputs": [
    {
     "name": "stderr",
     "output_type": "stream",
     "text": [
      "c:\\Users\\gauravkkumar\\Documents\\2025\\rag\\venv\\Lib\\site-packages\\urllib3\\connectionpool.py:1097: InsecureRequestWarning: Unverified HTTPS request is being made to host 'localhost'. Adding certificate verification is strongly advised. See: https://urllib3.readthedocs.io/en/latest/advanced-usage.html#tls-warnings\n",
      "  warnings.warn(\n"
     ]
    },
    {
     "data": {
      "text/plain": [
       "102"
      ]
     },
     "execution_count": 31,
     "metadata": {},
     "output_type": "execute_result"
    }
   ],
   "source": [
    "count = client.count(index=index_name)['count']\n",
    "count"
   ]
  }
 ],
 "metadata": {
  "language_info": {
   "name": "python"
  }
 },
 "nbformat": 4,
 "nbformat_minor": 5
}
